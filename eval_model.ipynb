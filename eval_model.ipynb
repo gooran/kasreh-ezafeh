{
  "nbformat": 4,
  "nbformat_minor": 0,
  "metadata": {
    "colab": {
      "name": "eval_model.ipynb",
      "provenance": [],
      "collapsed_sections": [],
      "toc_visible": true,
      "mount_file_id": "1al7wsk-8Od3ewO7r3IAD82LApJbJnqEy",
      "authorship_tag": "ABX9TyN00MKVErp8bbuajGejZQZX",
      "include_colab_link": true
    },
    "kernelspec": {
      "name": "python3",
      "display_name": "Python 3"
    },
    "language_info": {
      "name": "python"
    },
    "accelerator": "GPU"
  },
  "cells": [
    {
      "cell_type": "markdown",
      "metadata": {
        "id": "view-in-github",
        "colab_type": "text"
      },
      "source": [
        "<a href=\"https://colab.research.google.com/github/gooran/kasreh-ezafeh/blob/main/eval_model.ipynb\" target=\"_parent\"><img src=\"https://colab.research.google.com/assets/colab-badge.svg\" alt=\"Open In Colab\"/></a>"
      ]
    },
    {
      "cell_type": "markdown",
      "metadata": {
        "id": "XqFlDg2jBoPt"
      },
      "source": [
        "# Download data"
      ]
    },
    {
      "cell_type": "code",
      "metadata": {
        "id": "TFAfmzH-ydfN",
        "colab": {
          "base_uri": "https://localhost:8080/"
        },
        "outputId": "6b3f4eb0-b050-4b77-e6c3-781a1f50c828"
      },
      "source": [
        "from google.colab import drive\n",
        "drive.mount('/content/drive')"
      ],
      "execution_count": 1,
      "outputs": [
        {
          "output_type": "stream",
          "text": [
            "Drive already mounted at /content/drive; to attempt to forcibly remount, call drive.mount(\"/content/drive\", force_remount=True).\n"
          ],
          "name": "stdout"
        }
      ]
    },
    {
      "cell_type": "code",
      "metadata": {
        "id": "sOI1rkvOLU0q",
        "colab": {
          "base_uri": "https://localhost:8080/"
        },
        "outputId": "4206ce6a-9e40-4b86-c27d-613ebdd75bbf"
      },
      "source": [
        "!git clone https://github.com/HLTT14/NLP-Assignments.git"
      ],
      "execution_count": 2,
      "outputs": [
        {
          "output_type": "stream",
          "text": [
            "Cloning into 'NLP-Assignments'...\n",
            "remote: Enumerating objects: 117, done.\u001b[K\n",
            "remote: Counting objects: 100% (117/117), done.\u001b[K\n",
            "remote: Compressing objects: 100% (111/111), done.\u001b[K\n",
            "remote: Total 117 (delta 59), reused 12 (delta 3), pack-reused 0\u001b[K\n",
            "Receiving objects: 100% (117/117), 22.21 MiB | 8.72 MiB/s, done.\n",
            "Resolving deltas: 100% (59/59), done.\n"
          ],
          "name": "stdout"
        }
      ]
    },
    {
      "cell_type": "code",
      "metadata": {
        "id": "jCtP5yh4Ahv7"
      },
      "source": [
        "!unzip -o -q /content/NLP-Assignments/Assignment2/test.zip"
      ],
      "execution_count": 3,
      "outputs": []
    },
    {
      "cell_type": "markdown",
      "metadata": {
        "id": "Bpm1S4DGBVXi"
      },
      "source": [
        "# Setup"
      ]
    },
    {
      "cell_type": "code",
      "metadata": {
        "id": "lV_ezkUUBdOO"
      },
      "source": [
        "# import necessary libraries\n",
        "import numpy as np\n",
        "import tensorflow as tf\n",
        "from tensorflow import keras\n",
        "import pandas as pd\n",
        "from matplotlib import pyplot as plt\n",
        "from keras.preprocessing.text import Tokenizer\n",
        "from keras.preprocessing.sequence import pad_sequences\n",
        "from keras.utils.np_utils import to_categorical\n",
        "from keras.losses import BinaryCrossentropy"
      ],
      "execution_count": 38,
      "outputs": []
    },
    {
      "cell_type": "markdown",
      "metadata": {
        "id": "9XY95js1A0kJ"
      },
      "source": [
        "# Configuration\n"
      ]
    },
    {
      "cell_type": "code",
      "metadata": {
        "id": "SMvyZ2LzA3ru"
      },
      "source": [
        "# Path to the data txt file on disk.\n",
        "data_path = \"/content/test.data\""
      ],
      "execution_count": 5,
      "outputs": []
    },
    {
      "cell_type": "markdown",
      "metadata": {
        "id": "u19hHwCdDAta"
      },
      "source": [
        "# Prepare the data"
      ]
    },
    {
      "cell_type": "code",
      "metadata": {
        "id": "I84-RWtEDyFf"
      },
      "source": [
        "df = pd.read_fwf(data_path, header = None, names=['word'],skip_blank_lines=False)"
      ],
      "execution_count": 6,
      "outputs": []
    },
    {
      "cell_type": "code",
      "metadata": {
        "id": "t3Etlx2NrDvg"
      },
      "source": [
        "df = df.replace(np.nan, '', regex=True)"
      ],
      "execution_count": 7,
      "outputs": []
    },
    {
      "cell_type": "code",
      "metadata": {
        "id": "j_PIvlMElxfu",
        "colab": {
          "base_uri": "https://localhost:8080/",
          "height": 204
        },
        "outputId": "8fb65fd5-0737-4bb5-e38f-fe510ab15253"
      },
      "source": [
        "df.head()"
      ],
      "execution_count": 8,
      "outputs": [
        {
          "output_type": "execute_result",
          "data": {
            "text/html": [
              "<div>\n",
              "<style scoped>\n",
              "    .dataframe tbody tr th:only-of-type {\n",
              "        vertical-align: middle;\n",
              "    }\n",
              "\n",
              "    .dataframe tbody tr th {\n",
              "        vertical-align: top;\n",
              "    }\n",
              "\n",
              "    .dataframe thead th {\n",
              "        text-align: right;\n",
              "    }\n",
              "</style>\n",
              "<table border=\"1\" class=\"dataframe\">\n",
              "  <thead>\n",
              "    <tr style=\"text-align: right;\">\n",
              "      <th></th>\n",
              "      <th>word</th>\n",
              "    </tr>\n",
              "  </thead>\n",
              "  <tbody>\n",
              "    <tr>\n",
              "      <th>0</th>\n",
              "      <td>جسته‌وگریخته gen_positive</td>\n",
              "    </tr>\n",
              "    <tr>\n",
              "      <th>1</th>\n",
              "      <td>علائم gen_negative</td>\n",
              "    </tr>\n",
              "    <tr>\n",
              "      <th>2</th>\n",
              "      <td>و gen_negative</td>\n",
              "    </tr>\n",
              "    <tr>\n",
              "      <th>3</th>\n",
              "      <td>نشانه‌هایی gen_negative</td>\n",
              "    </tr>\n",
              "    <tr>\n",
              "      <th>4</th>\n",
              "      <td>می‌توان gen_negative</td>\n",
              "    </tr>\n",
              "  </tbody>\n",
              "</table>\n",
              "</div>"
            ],
            "text/plain": [
              "                        word\n",
              "0  جسته‌وگریخته gen_positive\n",
              "1         علائم gen_negative\n",
              "2             و gen_negative\n",
              "3    نشانه‌هایی gen_negative\n",
              "4       می‌توان gen_negative"
            ]
          },
          "metadata": {
            "tags": []
          },
          "execution_count": 8
        }
      ]
    },
    {
      "cell_type": "code",
      "metadata": {
        "id": "0BwdWGF6UGJB"
      },
      "source": [
        "df['tag'] = df.apply(lambda row: '1' if 'gen_negative' in row.word.split() else '2', axis = 1)"
      ],
      "execution_count": 9,
      "outputs": []
    },
    {
      "cell_type": "code",
      "metadata": {
        "id": "WViM21hpV9JX"
      },
      "source": [
        "df['word'] = df.apply(lambda row: row.word.replace('gen_negative', '').replace('gen_positive', '').strip(), axis = 1)"
      ],
      "execution_count": 10,
      "outputs": []
    },
    {
      "cell_type": "code",
      "metadata": {
        "id": "K-Ok7HlR8Z5l"
      },
      "source": [
        "X = [] # store input sequence\n",
        "Y = [] # store output sequence\n",
        "X_sentence = []\n",
        "Y_sentence = []\n",
        "def word2sentence(row):\n",
        "  global X_sentence,Y_sentence,X,Y\n",
        "  if(row.word!=''):\n",
        "    X_sentence.append(row.word)\n",
        "    Y_sentence.append(row.tag)\n",
        "  else:\n",
        "    X.append(X_sentence)\n",
        "    Y.append(Y_sentence)\n",
        "    X_sentence = []\n",
        "    Y_sentence = []"
      ],
      "execution_count": 11,
      "outputs": []
    },
    {
      "cell_type": "code",
      "metadata": {
        "id": "zZF1QeAhUQHd"
      },
      "source": [
        "df.apply(lambda row: word2sentence(row), axis = 1);"
      ],
      "execution_count": 12,
      "outputs": []
    },
    {
      "cell_type": "code",
      "metadata": {
        "id": "V6xbm9IQKstQ"
      },
      "source": [
        "num_words = len(set([word.lower() for sentence in X for word in sentence]))\n",
        "num_tags   = len(set([word.lower() for sentence in Y for word in sentence]))"
      ],
      "execution_count": 13,
      "outputs": []
    },
    {
      "cell_type": "code",
      "metadata": {
        "id": "4Rfcl98SKtzg",
        "colab": {
          "base_uri": "https://localhost:8080/"
        },
        "outputId": "aa305fda-833a-4b96-a058-9dd031316453"
      },
      "source": [
        "print(\"Total number of tagged sentences: {}\".format(len(X)))\n",
        "print(\"Vocabulary size: {}\".format(num_words))\n",
        "print(\"Total number of tags: {}\".format(num_tags))"
      ],
      "execution_count": 14,
      "outputs": [
        {
          "output_type": "stream",
          "text": [
            "Total number of tagged sentences: 6575\n",
            "Vocabulary size: 16487\n",
            "Total number of tags: 2\n"
          ],
          "name": "stdout"
        }
      ]
    },
    {
      "cell_type": "code",
      "metadata": {
        "id": "LbDjKmnZKxB7",
        "colab": {
          "base_uri": "https://localhost:8080/"
        },
        "outputId": "608db7c9-ab10-4668-da28-d82b3d20564f"
      },
      "source": [
        "# let's look at first data point\n",
        "# this is one data point that will be fed to the RNN\n",
        "print('sample X: ', X[0], '\\n')\n",
        "print('sample Y: ', Y[0], '\\n')"
      ],
      "execution_count": 15,
      "outputs": [
        {
          "output_type": "stream",
          "text": [
            "sample X:  ['جسته\\u200cوگریخته', 'علائم', 'و', 'نشانه\\u200cهایی', 'می\\u200cتوان', 'یافت', 'از', 'یک', 'ایدئولوژی', 'التقاطی', 'که', 'بر', 'اندیشه\\u200cهای', 'فاشیستی', 'پیراهنی', 'دینی', 'می\\u200cپوشاند', 'و', 'آرزوها', 'و', 'امیال', 'قدرت\\u200cطلبانه', 'را', 'در', 'پس', 'ارزش\\u200cها', 'و', 'آرمان\\u200cهای', 'ملتی', 'دردمند', 'و', 'متعهد', 'پنهان', 'می\\u200cسازد', '.'] \n",
            "\n",
            "sample Y:  ['2', '1', '1', '1', '1', '1', '1', '1', '2', '1', '1', '1', '2', '1', '1', '1', '1', '1', '1', '1', '2', '1', '1', '1', '2', '1', '1', '2', '1', '1', '1', '1', '1', '1', '1'] \n",
            "\n"
          ],
          "name": "stdout"
        }
      ]
    },
    {
      "cell_type": "code",
      "metadata": {
        "id": "d1mxNBZAMVM6",
        "colab": {
          "base_uri": "https://localhost:8080/"
        },
        "outputId": "7523fb87-ef1b-4724-b813-67a5bfb94496"
      },
      "source": [
        "# In this many-to-many problem, the length of each input and output sequence must be the same.\n",
        "# Since each word is tagged, it's important to make sure that the length of input sequence equals the output sequence\n",
        "print(\"Length of first input sequence  : {}\".format(len(X[0])))\n",
        "print(\"Length of first output sequence : {}\".format(len(Y[0])))"
      ],
      "execution_count": 16,
      "outputs": [
        {
          "output_type": "stream",
          "text": [
            "Length of first input sequence  : 35\n",
            "Length of first output sequence : 35\n"
          ],
          "name": "stdout"
        }
      ]
    },
    {
      "cell_type": "markdown",
      "metadata": {
        "id": "HJQUjpUxManC"
      },
      "source": [
        "# Vectorise X and Y\n",
        "Encode X and Y to integer values\n",
        "\n",
        "We'll use the Tokenizer() function from Keras library to encode text sequence to integer sequence"
      ]
    },
    {
      "cell_type": "code",
      "metadata": {
        "id": "EXyfPsS0MehY"
      },
      "source": [
        "# encode X\n",
        "\n",
        "word_tokenizer = Tokenizer()                      # instantiate tokeniser\n",
        "word_tokenizer.fit_on_texts(X)                    # fit tokeniser on data\n",
        "X_encoded = word_tokenizer.texts_to_sequences(X)  # use the tokeniser to encode input sequence"
      ],
      "execution_count": 17,
      "outputs": []
    },
    {
      "cell_type": "code",
      "metadata": {
        "id": "F4hmGFQANaFa"
      },
      "source": [
        "# encode Y\n",
        "\n",
        "tag_tokenizer = Tokenizer()\n",
        "tag_tokenizer.fit_on_texts(Y)\n",
        "Y_encoded = tag_tokenizer.texts_to_sequences(Y)"
      ],
      "execution_count": 18,
      "outputs": []
    },
    {
      "cell_type": "code",
      "metadata": {
        "id": "O-k8rgpfNdXg",
        "colab": {
          "base_uri": "https://localhost:8080/"
        },
        "outputId": "2ac23289-5f22-4d52-cd0c-103a221e1886"
      },
      "source": [
        "# look at first encoded data point\n",
        "\n",
        "print(\"** Raw data point **\", \"\\n\", \"-\"*100, \"\\n\")\n",
        "print('X: ', X[0], '\\n')\n",
        "print('Y: ', Y[0], '\\n')\n",
        "print()\n",
        "print(\"** Encoded data point **\", \"\\n\", \"-\"*100, \"\\n\")\n",
        "print('X: ', X_encoded[0], '\\n')\n",
        "print('Y: ', Y_encoded[0], '\\n')"
      ],
      "execution_count": 19,
      "outputs": [
        {
          "output_type": "stream",
          "text": [
            "** Raw data point ** \n",
            " ---------------------------------------------------------------------------------------------------- \n",
            "\n",
            "X:  ['جسته\\u200cوگریخته', 'علائم', 'و', 'نشانه\\u200cهایی', 'می\\u200cتوان', 'یافت', 'از', 'یک', 'ایدئولوژی', 'التقاطی', 'که', 'بر', 'اندیشه\\u200cهای', 'فاشیستی', 'پیراهنی', 'دینی', 'می\\u200cپوشاند', 'و', 'آرزوها', 'و', 'امیال', 'قدرت\\u200cطلبانه', 'را', 'در', 'پس', 'ارزش\\u200cها', 'و', 'آرمان\\u200cهای', 'ملتی', 'دردمند', 'و', 'متعهد', 'پنهان', 'می\\u200cسازد', '.'] \n",
            "\n",
            "Y:  ['2', '1', '1', '1', '1', '1', '1', '1', '2', '1', '1', '1', '2', '1', '1', '1', '1', '1', '1', '1', '2', '1', '1', '1', '2', '1', '1', '2', '1', '1', '1', '1', '1', '1', '1'] \n",
            "\n",
            "\n",
            "** Encoded data point ** \n",
            " ---------------------------------------------------------------------------------------------------- \n",
            "\n",
            "X:  [8733, 2171, 1, 3548, 289, 263, 6, 13, 3133, 4959, 7, 22, 4156, 4960, 8734, 484, 8735, 1, 6282, 1, 8736, 8737, 9, 3, 69, 2549, 1, 2550, 4157, 6283, 1, 2823, 2025, 1505, 4] \n",
            "\n",
            "Y:  [2, 1, 1, 1, 1, 1, 1, 1, 2, 1, 1, 1, 2, 1, 1, 1, 1, 1, 1, 1, 2, 1, 1, 1, 2, 1, 1, 2, 1, 1, 1, 1, 1, 1, 1] \n",
            "\n"
          ],
          "name": "stdout"
        }
      ]
    },
    {
      "cell_type": "code",
      "metadata": {
        "id": "30AIUVRZNocx",
        "colab": {
          "base_uri": "https://localhost:8080/"
        },
        "outputId": "6987ea3e-5d59-4be7-d6b4-ade7ea998416"
      },
      "source": [
        "# make sure that each sequence of input and output is same length\n",
        "\n",
        "different_length = [1 if len(input) != len(output) else 0 for input, output in zip(X_encoded, Y_encoded)]\n",
        "print(\"{} sentences have disparate input-output lengths.\".format(sum(different_length)))"
      ],
      "execution_count": 20,
      "outputs": [
        {
          "output_type": "stream",
          "text": [
            "0 sentences have disparate input-output lengths.\n"
          ],
          "name": "stdout"
        }
      ]
    },
    {
      "cell_type": "markdown",
      "metadata": {
        "id": "uOeKRtn4Nur6"
      },
      "source": [
        "## Pad sequences\n",
        "The next step after encoding the data is to define the sequence lengths. As of now, the sentences present in the data are of various lengths. We need to either pad short sentences or truncate long sentences to a fixed length. This fixed length, however, is a hyperparameter."
      ]
    },
    {
      "cell_type": "code",
      "metadata": {
        "id": "rVuc9nSbN04B",
        "colab": {
          "base_uri": "https://localhost:8080/"
        },
        "outputId": "7f35ccb1-e572-4231-f9b4-08a71c8c3eab"
      },
      "source": [
        "# check length of longest sentence\n",
        "lengths = [len(seq) for seq in X_encoded]\n",
        "print(\"Length of longest sentence: {}\".format(max(lengths)))"
      ],
      "execution_count": 21,
      "outputs": [
        {
          "output_type": "stream",
          "text": [
            "Length of longest sentence: 1230\n"
          ],
          "name": "stdout"
        }
      ]
    },
    {
      "cell_type": "code",
      "metadata": {
        "id": "NYlnqGXMOEu5"
      },
      "source": [
        "# Pad each sequence to MAX_SEQ_LENGTH using KERAS' pad_sequences() function. \n",
        "# Sentences longer than MAX_SEQ_LENGTH are truncated.\n",
        "# Sentences shorter than MAX_SEQ_LENGTH are padded with zeroes.\n",
        "\n",
        "# Truncation and padding can either be 'pre' or 'post'. \n",
        "# For padding we are using 'pre' padding type, that is, add zeroes on the left side.\n",
        "# For truncation, we are using 'post', that is, truncate a sentence from right side.\n",
        "\n",
        "MAX_SEQ_LENGTH = 100  # sequences greater than 100 in length will be truncated\n",
        "\n",
        "X_padded = pad_sequences(X_encoded, maxlen=MAX_SEQ_LENGTH, padding=\"pre\", truncating=\"post\")\n",
        "Y_padded = pad_sequences(Y_encoded, maxlen=MAX_SEQ_LENGTH, padding=\"pre\", truncating=\"post\")"
      ],
      "execution_count": 26,
      "outputs": []
    },
    {
      "cell_type": "code",
      "metadata": {
        "id": "OTTIopW-OH86",
        "colab": {
          "base_uri": "https://localhost:8080/"
        },
        "outputId": "f4832c7e-299d-43e8-92b1-a80cc66f277c"
      },
      "source": [
        "# print the first sequence\n",
        "print(X_padded[0], \"\\n\"*3)\n",
        "print(Y_padded[0])"
      ],
      "execution_count": 27,
      "outputs": [
        {
          "output_type": "stream",
          "text": [
            "[   0    0    0    0    0    0    0    0    0    0    0    0    0    0\n",
            "    0    0    0    0    0    0    0    0    0    0    0    0    0    0\n",
            "    0    0    0    0    0    0    0    0    0    0    0    0    0    0\n",
            "    0    0    0    0    0    0    0    0    0    0    0    0    0    0\n",
            "    0    0    0    0    0    0    0    0    0 8733 2171    1 3548  289\n",
            "  263    6   13 3133 4959    7   22 4156 4960 8734  484 8735    1 6282\n",
            "    1 8736 8737    9    3   69 2549    1 2550 4157 6283    1 2823 2025\n",
            " 1505    4] \n",
            "\n",
            "\n",
            "\n",
            "[0 0 0 0 0 0 0 0 0 0 0 0 0 0 0 0 0 0 0 0 0 0 0 0 0 0 0 0 0 0 0 0 0 0 0 0 0\n",
            " 0 0 0 0 0 0 0 0 0 0 0 0 0 0 0 0 0 0 0 0 0 0 0 0 0 0 0 0 2 1 1 1 1 1 1 1 2\n",
            " 1 1 1 2 1 1 1 1 1 1 1 2 1 1 1 2 1 1 2 1 1 1 1 1 1 1]\n"
          ],
          "name": "stdout"
        }
      ]
    },
    {
      "cell_type": "markdown",
      "metadata": {
        "id": "4iJUxDSFOOXS"
      },
      "source": [
        "RNN will learn the zero to zero mapping while training. So we don't need to worry about the padded zeroes. Please note that zero is not reserved for any word or tag, it's only reserved for padding."
      ]
    },
    {
      "cell_type": "code",
      "metadata": {
        "id": "o2aYIfyrOQER"
      },
      "source": [
        "# assign padded sequences to X and Y\n",
        "X, Y = X_padded, Y_padded"
      ],
      "execution_count": 28,
      "outputs": []
    },
    {
      "cell_type": "markdown",
      "metadata": {
        "id": "ttFRl6h_U9Dt"
      },
      "source": [
        "## Use one-hot encoding for output sequences (Y)"
      ]
    },
    {
      "cell_type": "code",
      "metadata": {
        "id": "9Y4RVQjKU_wL"
      },
      "source": [
        "# use Keras' to_categorical function to one-hot encode Y\n",
        "Y = to_categorical(Y)"
      ],
      "execution_count": 31,
      "outputs": []
    },
    {
      "cell_type": "code",
      "metadata": {
        "colab": {
          "base_uri": "https://localhost:8080/"
        },
        "id": "OLQURVkeVGH7",
        "outputId": "8d206de3-86d7-4434-efa9-93f0e6377159"
      },
      "source": [
        "# print Y of the first output sequqnce\n",
        "print(Y.shape)"
      ],
      "execution_count": 32,
      "outputs": [
        {
          "output_type": "stream",
          "text": [
            "(6575, 100, 3)\n"
          ],
          "name": "stdout"
        }
      ]
    },
    {
      "cell_type": "markdown",
      "metadata": {
        "id": "sWMQ5nTGf3li"
      },
      "source": [
        "## Loading the model"
      ]
    },
    {
      "cell_type": "code",
      "metadata": {
        "id": "wm9fuT1I6tud",
        "colab": {
          "base_uri": "https://localhost:8080/"
        },
        "outputId": "975328b9-f173-4fa5-bc6a-1cb8ea7223b3"
      },
      "source": [
        "final_model = keras.models.load_model('/content/drive/MyDrive/final_model.h5')"
      ],
      "execution_count": 36,
      "outputs": [
        {
          "output_type": "stream",
          "text": [
            "WARNING:tensorflow:Error in loading the saved optimizer state. As a result, your model is starting with a freshly initialized optimizer.\n"
          ],
          "name": "stdout"
        }
      ]
    },
    {
      "cell_type": "code",
      "metadata": {
        "id": "TB2yMlDngCPW",
        "colab": {
          "base_uri": "https://localhost:8080/"
        },
        "outputId": "f3a3b1b0-abba-4805-e61f-8c956fbf7f1f"
      },
      "source": [
        "# check summary of model\n",
        "final_model.summary()"
      ],
      "execution_count": 37,
      "outputs": [
        {
          "output_type": "stream",
          "text": [
            "Model: \"sequential\"\n",
            "_________________________________________________________________\n",
            "Layer (type)                 Output Shape              Param #   \n",
            "=================================================================\n",
            "embedding (Embedding)        (None, 100, 200)          11663200  \n",
            "_________________________________________________________________\n",
            "bidirectional (Bidirectional (None, 100, 128)          135680    \n",
            "_________________________________________________________________\n",
            "time_distributed (TimeDistri (None, 100, 40)           5160      \n",
            "_________________________________________________________________\n",
            "time_distributed_1 (TimeDist (None, 100, 3)            123       \n",
            "=================================================================\n",
            "Total params: 11,804,163\n",
            "Trainable params: 135,803\n",
            "Non-trainable params: 11,668,360\n",
            "_________________________________________________________________\n"
          ],
          "name": "stdout"
        }
      ]
    },
    {
      "cell_type": "code",
      "metadata": {
        "id": "qaFp1WweupBr"
      },
      "source": [
        "final_model.compile(loss=BinaryCrossentropy(),\n",
        "              optimizer='adam',\n",
        "              metrics=['acc', keras.metrics.Precision(), keras.metrics.Recall()])"
      ],
      "execution_count": 39,
      "outputs": []
    },
    {
      "cell_type": "markdown",
      "metadata": {
        "id": "MnycGEZGLsQs"
      },
      "source": [
        "## Load Test Data"
      ]
    },
    {
      "cell_type": "code",
      "metadata": {
        "id": "3RbPDx3Txjhf"
      },
      "source": [
        "X_test, Y_test = X, Y"
      ],
      "execution_count": 40,
      "outputs": []
    },
    {
      "cell_type": "markdown",
      "metadata": {
        "id": "oyoHPStKSmVy"
      },
      "source": [
        "# Final Model evaluation"
      ]
    },
    {
      "cell_type": "code",
      "metadata": {
        "colab": {
          "base_uri": "https://localhost:8080/"
        },
        "id": "sm867oc0SmVz",
        "outputId": "141b4dc1-676c-47b7-95ad-41158cfeadc1"
      },
      "source": [
        "loss, accuracy, precision, recall = final_model.evaluate(X_test, Y_test, verbose = 1)\n",
        "# Calculate f1_score\n",
        "f1_score = 2 * (precision * recall) / (precision + recall)\n",
        "print(\"Loss: {0},\\nAccuracy: {1},\\nPrecision: {2},\\nRecall: {3},\\nf1_score: {4}\".format(loss, accuracy, precision, recall,f1_score))"
      ],
      "execution_count": 41,
      "outputs": [
        {
          "output_type": "stream",
          "text": [
            "206/206 [==============================] - 10s 8ms/step - loss: 0.1625 - acc: 0.9318 - precision: 0.9355 - recall: 0.9274\n",
            "Loss: 0.16252107918262482,\n",
            "Accuracy: 0.9318433403968811,\n",
            "Precision: 0.9355360269546509,\n",
            "Recall: 0.9274342060089111,\n",
            "f1_score: 0.9314674995866006\n"
          ],
          "name": "stdout"
        }
      ]
    }
  ]
}